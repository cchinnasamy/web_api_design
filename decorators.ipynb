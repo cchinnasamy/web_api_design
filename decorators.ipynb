{
 "cells": [
  {
   "cell_type": "code",
   "execution_count": 55,
   "metadata": {},
   "outputs": [
    {
     "name": "stdout",
     "output_type": "stream",
     "text": [
      "('sella',)\n"
     ]
    }
   ],
   "source": [
    "\n",
    "def check(func):\n",
    "    def wrap(*args,**kwargs):\n",
    "        return func(*args,**kwargs)\n",
    "    \n",
    "    return wrap\n",
    "\n",
    "@check\n",
    "def hello(*args,**kwargs):\n",
    "    print(args)\n",
    "\n",
    "    \n",
    "hello(\"sella\")"
   ]
  },
  {
   "cell_type": "code",
   "execution_count": 71,
   "metadata": {},
   "outputs": [
    {
     "name": "stdout",
     "output_type": "stream",
     "text": [
      "message (1, 2, 3) {}\n"
     ]
    }
   ],
   "source": [
    "\n",
    "def check(m):\n",
    "    def wrap(func):\n",
    "        def inner(*args, **kwargs):\n",
    "            return func(m, *args, **kwargs)\n",
    "        return inner\n",
    "    \n",
    "    return wrap\n",
    "\n",
    "@check(m=\"message\")\n",
    "def hello(message, *args,**kwargs):\n",
    "    print(message, args,kwargs)\n",
    "\n",
    "    \n",
    "hello(1,2,3)"
   ]
  },
  {
   "cell_type": "code",
   "execution_count": 72,
   "metadata": {},
   "outputs": [
    {
     "name": "stdout",
     "output_type": "stream",
     "text": [
      "message\n"
     ]
    }
   ],
   "source": [
    "\n",
    "def check(m):\n",
    "    def wrap(func):\n",
    "        return func(m)\n",
    "    \n",
    "    return wrap\n",
    "\n",
    "@check(m=\"message\")\n",
    "def hello(message):\n",
    "    print(message)\n",
    "\n",
    "    \n",
    "hello"
   ]
  },
  {
   "cell_type": "code",
   "execution_count": 78,
   "metadata": {},
   "outputs": [
    {
     "name": "stdout",
     "output_type": "stream",
     "text": [
      "index\n",
      "home\n"
     ]
    }
   ],
   "source": [
    "class API(object):\n",
    "    def __init__(self):\n",
    "        self.routes = {}\n",
    "\n",
    "    def route(self, path):\n",
    "        def wrapper(handler):\n",
    "            self.routes[path] = handler\n",
    "            return handler\n",
    "\n",
    "        return wrapper\n",
    "\n",
    "    def __call__(self,path):\n",
    "        return self.routes[path]()\n",
    "\n",
    "        \n",
    "app = API()\n",
    "\n",
    "@app.route(\"/home\")\n",
    "def home():\n",
    "    print(\"home\")\n",
    "\n",
    "@app.route(\"/index\")\n",
    "def home():\n",
    "    print(\"index\")\n",
    "\n",
    "\n",
    "app('/index')\n",
    "app('/home')\n",
    "\n",
    "\n"
   ]
  },
  {
   "cell_type": "code",
   "execution_count": null,
   "metadata": {},
   "outputs": [],
   "source": []
  }
 ],
 "metadata": {
  "kernelspec": {
   "display_name": "Python 3",
   "language": "python",
   "name": "python3"
  },
  "language_info": {
   "codemirror_mode": {
    "name": "ipython",
    "version": 3
   },
   "file_extension": ".py",
   "mimetype": "text/x-python",
   "name": "python",
   "nbconvert_exporter": "python",
   "pygments_lexer": "ipython3",
   "version": "3.7.5"
  }
 },
 "nbformat": 4,
 "nbformat_minor": 4
}
